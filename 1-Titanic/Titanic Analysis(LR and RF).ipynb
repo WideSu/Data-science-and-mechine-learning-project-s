{
 "cells": [
  {
   "cell_type": "code",
   "execution_count": 1,
   "id": "40bb4038",
   "metadata": {},
   "outputs": [
    {
     "name": "stdout",
     "output_type": "stream",
     "text": [
      "[0]Logistic Regression Training Accuracy:  0.7949438202247191\n",
      "[1]K Neighbors Training Accuracy:  0.8497191011235955\n",
      "[2]SVC Linear Training Accuracy:  0.7865168539325843\n",
      "[3]SVC RBF Training Accuracy:  0.6376404494382022\n",
      "[4]Gaussian NB Training Accuracy:  0.773876404494382\n",
      "[5]Decision Tree Training Accuracy:  0.9887640449438202\n",
      "[6]Random Forest Training Accuracy:  0.9676966292134831\n"
     ]
    },
    {
     "data": {
      "image/png": "[encoded data removed]",
      "text/plain": [
       "<Figure size 432x288 with 1 Axes>"
      ]
     },
     "metadata": {
      "needs_background": "light"
     },
     "output_type": "display_data"
    },
    {
     "data": {
      "image/png": "[encoded data removed]",
      "text/plain": [
       "<Figure size 432x288 with 1 Axes>"
      ]
     },
     "metadata": {
      "needs_background": "light"
     },
     "output_type": "display_data"
    }
   ],
   "source": [
    "# import libraries\n",
    "'''\n",
    "pip install numpy\n",
    "pip install seaborn\n",
    "pip install sklearn\n",
    "'''\n",
    "import numpy as np\n",
    "import pandas as pd \n",
    "import seaborn as sns\n",
    "import matplotlib.pyplot as plt\n",
    "\n",
    "# load the data\n",
    "titanic_train = pd.read_csv('tmp/train_data.csv')\n",
    "titanic_train = titanic_train.drop('Unnamed: 0',axis=1)\n",
    "\n",
    "titanic_test = pd.read_csv('tmp/test_data.csv')\n",
    "titanic_test = titanic_test.drop('Unnamed: 0',axis=1)\n",
    "\n",
    "titanic = pd.concat([titanic_train,titanic_test])\n",
    "\n",
    "X = titanic.iloc[:, [0,1,2,3,-1]].values\n",
    "Y = titanic.iloc[:, -2].values\n",
    "\n",
    "# split the dataset into 80% training and 20% testing\n",
    "from sklearn.model_selection import train_test_split\n",
    "X_train, X_test, Y_train, Y_test = train_test_split(X, Y, test_size=0.2, random_state=0)\n",
    "\n",
    "# create a function with many machine learning models\n",
    "def models(X_train, Y_train):\n",
    "    \n",
    "    # use logistic regresion\n",
    "    from sklearn.linear_model import LogisticRegression\n",
    "    log = LogisticRegression(random_state=0)\n",
    "    log.fit(X_train, Y_train)\n",
    "    \n",
    "    # use KNeighbors\n",
    "    from sklearn.neighbors import KNeighborsClassifier\n",
    "    knn = KNeighborsClassifier(n_neighbors = 5, metric = 'minkowski', p=2)\n",
    "    knn.fit(X_train, Y_train)\n",
    "    \n",
    "    # use SVC (linear kernel)\n",
    "    from sklearn.svm import SVC\n",
    "    svc_lin = SVC(kernel='linear', random_state=0)\n",
    "    svc_lin.fit(X_train, Y_train)\n",
    "    \n",
    "    # use SVC (RBF kernel)\n",
    "    from sklearn.svm import SVC\n",
    "    svc_rbf = SVC(kernel='rbf', random_state=0)\n",
    "    svc_rbf.fit(X_train, Y_train)\n",
    "    \n",
    "    # use GaussianNB\n",
    "    from sklearn.naive_bayes import GaussianNB\n",
    "    gauss = GaussianNB()\n",
    "    gauss.fit(X_train, Y_train)\n",
    "    \n",
    "    # use decision tree\n",
    "    from sklearn.tree import DecisionTreeClassifier\n",
    "    tree = DecisionTreeClassifier(criterion = 'entropy', random_state=0)\n",
    "    tree.fit(X_train, Y_train)\n",
    "    \n",
    "    # use the RandomForestClassifier\n",
    "    from sklearn.ensemble import RandomForestClassifier\n",
    "    forest = RandomForestClassifier(n_estimators=10, criterion='entropy',random_state=0)\n",
    "    forest.fit(X_train,Y_train)\n",
    "    \n",
    "    # print the training accuracy for each model\n",
    "    print('[0]Logistic Regression Training Accuracy: ', log.score(X_train, Y_train))\n",
    "    print('[1]K Neighbors Training Accuracy: ', knn.score(X_train, Y_train))\n",
    "    print('[2]SVC Linear Training Accuracy: ', svc_lin.score(X_train, Y_train))\n",
    "    print('[3]SVC RBF Training Accuracy: ', svc_rbf.score(X_train, Y_train))\n",
    "    print('[4]Gaussian NB Training Accuracy: ',  gauss.score(X_train, Y_train))\n",
    "    print('[5]Decision Tree Training Accuracy: ', tree.score(X_train, Y_train))\n",
    "    print('[6]Random Forest Training Accuracy: ', forest.score(X_train, Y_train))\n",
    "\n",
    "    \n",
    "    return log, knn, svc_lin, svc_rbf, gauss, tree, forest \n",
    "\n",
    "# get and train all of the models\n",
    "model = models(X_train, Y_train)\n",
    "\n",
    "# plot ROC and AOC\n",
    "from sklearn.metrics import confusion_matrix,roc_curve,auc,precision_recall_curve,average_precision_score\n",
    "from sklearn.model_selection import learning_curve\n",
    "import matplotlib.pyplot as plt\n",
    "\n",
    "#plot the auc/roc curve to evaluate the performance of Logistic Regression\n",
    "def plot_LR_ROC(x_test,y_test):\n",
    "    y_pro=model[0].predict(X_test)\n",
    "    false_positive_rate,recall,thresholds=roc_curve(y_test,y_pro)\n",
    "    roc_auc=auc(false_positive_rate,recall)\n",
    "    ax3=plt.subplot(223)\n",
    "    ax3.set_title(\"Logistic ROC Curve\",verticalalignment='center')\n",
    "    plt.plot(false_positive_rate,recall,'black',label='AUC=%0.2f'%roc_auc)\n",
    "    plt.legend(loc=10,frameon=False)\n",
    "    plt.plot([0,1],[0,1],'darkgrey')\n",
    "    plt.fill_between(false_positive_rate,recall,color='lightgrey',alpha=0.5)\n",
    "    plt.xlim([0.0,1.0]) # Set the range for x ticks\n",
    "    plt.ylim([0.0,1.0]) # Set the range for y ticks\n",
    "    plt.ylabel('Sensitivity')\n",
    "    plt.xlabel('Specificity')\n",
    "    plt.show()\n",
    "    \n",
    "#plot the auc/roc curve for evaluation of Random Forest\n",
    "def plot_RF_ROC(x_test,y_test):\n",
    "    y_pro=model[6].predict(X_test)\n",
    "    false_positive_rate,recall,thresholds=roc_curve(y_test,y_pro)\n",
    "    roc_auc=auc(false_positive_rate,recall)\n",
    "    ax3=plt.subplot(223)\n",
    "    ax3.set_title(\"RF ROC Curve\",verticalalignment='center')\n",
    "    plt.plot(false_positive_rate,recall,'black',label='AUC=%0.2f'%roc_auc)\n",
    "    plt.legend(loc=10,frameon=False)\n",
    "    plt.plot([0,1],[0,1],'darkgrey')\n",
    "    plt.fill_between(false_positive_rate,recall,color='lightgrey',alpha=0.5)\n",
    "    plt.xlim([0.0,1.0])\n",
    "    plt.ylim([0.0,1.0])\n",
    "    plt.ylabel('Sensitivity')\n",
    "    plt.xlabel('Specificity')\n",
    "    plt.show()\n",
    "    \n",
    "plot_LR_ROC(X_test,Y_test)\n",
    "plot_RF_ROC(X_test,Y_test)\n"
   ]
  }
 ],
 "metadata": {
  "kernelspec": {
   "display_name": "Python 3 (ipykernel)",
   "language": "python",
   "name": "python3"
  },
  "language_info": {
   "codemirror_mode": {
    "name": "ipython",
    "version": 3
   },
   "file_extension": ".py",
   "mimetype": "text/x-python",
   "name": "python",
   "nbconvert_exporter": "python",
   "pygments_lexer": "ipython3",
   "version": "3.8.8"
  }
 },
 "nbformat": 4,
 "nbformat_minor": 5
}
